{
 "cells": [
  {
   "cell_type": "code",
   "execution_count": 12,
   "metadata": {},
   "outputs": [
    {
     "name": "stdout",
     "output_type": "stream",
     "text": [
      "The first Armstrong number is  1741725\n"
     ]
    }
   ],
   "source": [
    "for x in range(1042000,702648265):\n",
    "    sum=0\n",
    "    order=len(str(x))\n",
    "    temp=x  \n",
    "    while temp>0:\n",
    "        digit=temp%10\n",
    "        sum += digit** order\n",
    "        temp //= 10    \n",
    "    if x==sum:\n",
    "        print ('The first Armstrong number is ',x)\n",
    "        break"
   ]
  },
  {
   "cell_type": "code",
   "execution_count": null,
   "metadata": {},
   "outputs": [],
   "source": []
  }
 ],
 "metadata": {
  "kernelspec": {
   "display_name": "Python 3",
   "language": "python",
   "name": "python3"
  },
  "language_info": {
   "codemirror_mode": {
    "name": "ipython",
    "version": 3
   },
   "file_extension": ".py",
   "mimetype": "text/x-python",
   "name": "python",
   "nbconvert_exporter": "python",
   "pygments_lexer": "ipython3",
   "version": "3.8.3"
  }
 },
 "nbformat": 4,
 "nbformat_minor": 4
}
