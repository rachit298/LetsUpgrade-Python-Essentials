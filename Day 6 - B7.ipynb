{
 "cells": [
  {
   "cell_type": "code",
   "execution_count": null,
   "metadata": {},
   "outputs": [],
   "source": [
    "#Question 1 :-"
   ]
  },
  {
   "cell_type": "code",
   "execution_count": 20,
   "metadata": {},
   "outputs": [
    {
     "name": "stdout",
     "output_type": "stream",
     "text": [
      "Enter the amount you want to deposit:- \n",
      "200\n",
      "Balance after deposit :-  400\n",
      "Enter the amount you want to withdraw:- \n",
      "400\n",
      "Balance after withdrawal:-  0\n",
      "Enter the amount you want to deposit:- \n",
      "200\n",
      "Balance after deposit :-  200\n",
      "Enter the amount you want to deposit:- \n",
      "100\n",
      "Balance after deposit :-  300\n",
      "Enter the amount you want to withdraw:- \n",
      "500\n",
      "Account don't have enough money left.\n",
      "Your current balance is :- 300\n",
      "Enter the amount you want to deposit:- \n",
      "200\n",
      "Balance after deposit :-  500\n"
     ]
    }
   ],
   "source": [
    "class bank_account:\n",
    "    ownername = \"Rachit\"\n",
    "    balance = 200\n",
    "    def deposit(self):\n",
    "        print(\"Enter the amount you want to deposit:- \")\n",
    "        a = int( input() )\n",
    "        self.balance = self.balance + a\n",
    "        print(\"Balance after deposit :- \",self.balance)\n",
    "    def withdraw(self):\n",
    "        print(\"Enter the amount you want to withdraw:- \")\n",
    "        b=int(input())\n",
    "        if b>self.balance:\n",
    "            print(\"Account don't have enough money left.\\nYour current balance is :-\",self.balance)\n",
    "        else:\n",
    "            self.balance = self.balance - b\n",
    "            print(\"Balance after withdrawal:- \",self.balance)\n",
    "b1 = bank_account()\n",
    "b1.deposit()\n",
    "b1.withdraw()\n",
    "b1.deposit()\n",
    "b1.deposit()\n",
    "b1.withdraw()\n",
    "b1.deposit()"
   ]
  },
  {
   "cell_type": "code",
   "execution_count": null,
   "metadata": {},
   "outputs": [],
   "source": [
    "#Question 2 :-"
   ]
  },
  {
   "cell_type": "code",
   "execution_count": 4,
   "metadata": {},
   "outputs": [
    {
     "name": "stdout",
     "output_type": "stream",
     "text": [
      "Enter the radius of the cone :- \n",
      "2\n",
      "Enter the height of the cone :- \n",
      "2\n",
      "Volume of cone is :- 8.373333333333333\n",
      "Surface area of cone is :- 30.322522343406078\n"
     ]
    }
   ],
   "source": [
    "import math\n",
    "class cone:\n",
    "    print(\"Enter the radius of the cone :- \")\n",
    "    R = int(input())\n",
    "    print(\"Enter the height of the cone :- \")\n",
    "    h = int(input())\n",
    "    def Volume(self):\n",
    "        a =  ( 3.14 * self.R**2 * self.h)/3 \n",
    "        print (\"Volume of cone is :-\",a)\n",
    "    def surface_area(self):\n",
    "        base = 3.14 * self.R**2\n",
    "        side = 3.14 * self.R * (math.sqrt(self.R**2 + self.h**2))\n",
    "        a = base + side \n",
    "        print(\"Surface area of cone is :-\",a)                  \n",
    "c1 = cone()\n",
    "c1.Volume()\n",
    "c1.surface_area()"
   ]
  },
  {
   "cell_type": "code",
   "execution_count": null,
   "metadata": {},
   "outputs": [],
   "source": []
  }
 ],
 "metadata": {
  "kernelspec": {
   "display_name": "Python 3",
   "language": "python",
   "name": "python3"
  },
  "language_info": {
   "codemirror_mode": {
    "name": "ipython",
    "version": 3
   },
   "file_extension": ".py",
   "mimetype": "text/x-python",
   "name": "python",
   "nbconvert_exporter": "python",
   "pygments_lexer": "ipython3",
   "version": "3.6.10"
  }
 },
 "nbformat": 4,
 "nbformat_minor": 4
}
