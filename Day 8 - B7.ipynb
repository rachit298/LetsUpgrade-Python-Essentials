{
 "cells": [
  {
   "cell_type": "markdown",
   "metadata": {},
   "source": [
    "### Question 1:-"
   ]
  },
  {
   "cell_type": "code",
   "execution_count": 15,
   "metadata": {},
   "outputs": [
    {
     "name": "stdout",
     "output_type": "stream",
     "text": [
      "Enter Number you want to check whether it is Even or odd : \n",
      "33\n",
      "Number is odd\n"
     ]
    }
   ],
   "source": [
    "def adecor(fun):\n",
    "        print(\"Enter Number you want to check whether it is Even or odd : \")\n",
    "        a = int(input())\n",
    "        fun(a)\n",
    "@adecor\n",
    "def method(x):\n",
    "    if x%2 == 0:\n",
    "        print(\"Number is even\")\n",
    "    else:\n",
    "        print(\"Number is odd\")"
   ]
  },
  {
   "cell_type": "markdown",
   "metadata": {},
   "source": [
    "### Question 2:-"
   ]
  },
  {
   "cell_type": "code",
   "execution_count": 31,
   "metadata": {},
   "outputs": [
    {
     "name": "stdout",
     "output_type": "stream",
     "text": [
      "Writing go.txt\n"
     ]
    }
   ],
   "source": [
    "%%writefile go.txt\n",
    "print(\"hello\")"
   ]
  },
  {
   "cell_type": "code",
   "execution_count": 33,
   "metadata": {},
   "outputs": [
    {
     "name": "stdout",
     "output_type": "stream",
     "text": [
      "File is opened in reading mode\n",
      "Error is :  not writable\n"
     ]
    }
   ],
   "source": [
    "file = open (\"go.txt\",\"r\")\n",
    "try:\n",
    "    file.write(\"This could be the second line of the file.\")\n",
    "except Exception as a:\n",
    "    print(\"File is opened in reading mode\")\n",
    "    print(\"Error is : \",a)"
   ]
  },
  {
   "cell_type": "code",
   "execution_count": null,
   "metadata": {},
   "outputs": [],
   "source": []
  }
 ],
 "metadata": {
  "kernelspec": {
   "display_name": "Python 3",
   "language": "python",
   "name": "python3"
  },
  "language_info": {
   "codemirror_mode": {
    "name": "ipython",
    "version": 3
   },
   "file_extension": ".py",
   "mimetype": "text/x-python",
   "name": "python",
   "nbconvert_exporter": "python",
   "pygments_lexer": "ipython3",
   "version": "3.6.10"
  }
 },
 "nbformat": 4,
 "nbformat_minor": 4
}
