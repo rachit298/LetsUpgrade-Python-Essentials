{
 "cells": [
  {
   "cell_type": "markdown",
   "metadata": {},
   "source": [
    "# Question 1 :-"
   ]
  },
  {
   "cell_type": "code",
   "execution_count": 3,
   "metadata": {},
   "outputs": [
    {
     "name": "stdout",
     "output_type": "stream",
     "text": [
      "Collecting Pylint\n",
      "  Downloading pylint-2.6.0-py3-none-any.whl (325 kB)\n",
      "\u001b[K     |████████████████████████████████| 325 kB 2.5 MB/s eta 0:00:01\n",
      "\u001b[?25hCollecting mccabe<0.7,>=0.6\n",
      "  Downloading mccabe-0.6.1-py2.py3-none-any.whl (8.6 kB)\n",
      "Collecting isort<6,>=4.2.5\n",
      "  Downloading isort-5.5.2-py3-none-any.whl (95 kB)\n",
      "\u001b[K     |████████████████████████████████| 95 kB 3.1 MB/s eta 0:00:01\n",
      "\u001b[?25hCollecting toml>=0.7.1\n",
      "  Downloading toml-0.10.1-py2.py3-none-any.whl (19 kB)\n",
      "Collecting astroid<=2.5,>=2.4.0\n",
      "  Downloading astroid-2.4.2-py3-none-any.whl (213 kB)\n",
      "\u001b[K     |████████████████████████████████| 213 kB 5.3 MB/s eta 0:00:01\n",
      "\u001b[?25hRequirement already satisfied: six~=1.12 in /srv/conda/envs/notebook/lib/python3.6/site-packages (from astroid<=2.5,>=2.4.0->Pylint) (1.15.0)\n",
      "Collecting lazy-object-proxy==1.4.*\n",
      "  Downloading lazy_object_proxy-1.4.3-cp36-cp36m-manylinux1_x86_64.whl (55 kB)\n",
      "\u001b[K     |████████████████████████████████| 55 kB 4.3 MB/s  eta 0:00:01\n",
      "\u001b[?25hCollecting typed-ast<1.5,>=1.4.0; implementation_name == \"cpython\" and python_version < \"3.8\"\n",
      "  Downloading typed_ast-1.4.1-cp36-cp36m-manylinux1_x86_64.whl (737 kB)\n",
      "\u001b[K     |████████████████████████████████| 737 kB 6.9 MB/s eta 0:00:01\n",
      "\u001b[?25hCollecting wrapt~=1.11\n",
      "  Downloading wrapt-1.12.1.tar.gz (27 kB)\n",
      "Building wheels for collected packages: wrapt\n",
      "  Building wheel for wrapt (setup.py) ... \u001b[?25ldone\n",
      "\u001b[?25h  Created wheel for wrapt: filename=wrapt-1.12.1-cp36-cp36m-linux_x86_64.whl size=69742 sha256=b38345194f9eb7dd9b11014bae0ce4469f9468d928827e7a68032c9244765783\n",
      "  Stored in directory: /home/jovyan/.cache/pip/wheels/32/42/7f/23cae9ff6ef66798d00dc5d659088e57dbba01566f6c60db63\n",
      "Successfully built wrapt\n",
      "Installing collected packages: mccabe, isort, toml, lazy-object-proxy, typed-ast, wrapt, astroid, Pylint\n",
      "Successfully installed Pylint-2.6.0 astroid-2.4.2 isort-5.5.2 lazy-object-proxy-1.4.3 mccabe-0.6.1 toml-0.10.1 typed-ast-1.4.1 wrapt-1.12.1\n"
     ]
    }
   ],
   "source": [
    "! pip install Pylint"
   ]
  },
  {
   "cell_type": "code",
   "execution_count": 21,
   "metadata": {},
   "outputs": [
    {
     "name": "stdout",
     "output_type": "stream",
     "text": [
      "Overwriting prime.txt\n"
     ]
    }
   ],
   "source": [
    "%%writefile prime.txt\n",
    "\n",
    "'''\n",
    "This function is made to check input_no number if it is input_no prime number or not\n",
    "'''\n",
    "\n",
    "def isprime():\n",
    "    '''\n",
    "    This is function is doing all the checking\n",
    "    '''\n",
    "    print(\"Enter input_no number to check whether it is prime or not :\")\n",
    "    input_no = int(input())\n",
    "    if input_no > 1:\n",
    "        for help_no in range (2,input_no):\n",
    "            if ( input_no% help_no) == 0 :\n",
    "                print( help_no, 'times',input_no// help_no, 'is',input_no)\n",
    "                print( \"is not prime number\")\n",
    "                break\n",
    "        else:\n",
    "            print( input_no,'is prime number')"
   ]
  },
  {
   "cell_type": "code",
   "execution_count": 22,
   "metadata": {},
   "outputs": [
    {
     "name": "stdout",
     "output_type": "stream",
     "text": [
      "\r\n",
      "-------------------------------------------------------------------\r\n",
      "Your code has been rated at 10.00/10 (previous run: 9.00/10, +1.00)\r\n",
      "\r\n"
     ]
    }
   ],
   "source": [
    "! pylint prime.txt"
   ]
  },
  {
   "cell_type": "code",
   "execution_count": 88,
   "metadata": {},
   "outputs": [
    {
     "name": "stdout",
     "output_type": "stream",
     "text": [
      "Overwriting forunittest.txt\n"
     ]
    }
   ],
   "source": [
    "%%writefile forunittest.txt\n",
    "\n",
    "import unittest\n",
    "def isprime():\n",
    "    '''\n",
    "    This is function is doing all the checking\n",
    "    '''\n",
    "    print(\"Enter input_no number to check whether it is prime or not :\")\n",
    "    input_no = int(input())\n",
    "    if input_no > 1:\n",
    "        for help_no in range (2, input_no):\n",
    "            if ( input_no% help_no) == 0 :\n",
    "                print( help_no, 'times',input_no// help_no, 'is',input_no)\n",
    "                print( \"is not prime number\")\n",
    "                break\n",
    "        else:\n",
    "            print( input_no, 'is prime number')\n",
    "            \n",
    "if __name__ == \"__main__\" :\n",
    "    unittest.main()\n"
   ]
  },
  {
   "cell_type": "code",
   "execution_count": 89,
   "metadata": {},
   "outputs": [
    {
     "name": "stdout",
     "output_type": "stream",
     "text": [
      "\r\n",
      "----------------------------------------------------------------------\r\n",
      "Ran 0 tests in 0.000s\r\n",
      "\r\n",
      "OK\r\n"
     ]
    }
   ],
   "source": [
    "! python forunittest.txt"
   ]
  },
  {
   "cell_type": "markdown",
   "metadata": {},
   "source": [
    "# Question 2:-"
   ]
  },
  {
   "cell_type": "code",
   "execution_count": 5,
   "metadata": {},
   "outputs": [],
   "source": [
    "def armstrong():\n",
    "    print(\"Armstrong numbers in range of 1 to 1000 are :\")\n",
    "    for x in range(1,1001):\n",
    "        sum=0\n",
    "        order=len(str(x))\n",
    "        temp=x  \n",
    "        while temp>0:\n",
    "            digit=temp%10\n",
    "            sum += digit** order\n",
    "            temp //= 10    \n",
    "        if x==sum:\n",
    "            yield(x)"
   ]
  },
  {
   "cell_type": "code",
   "execution_count": 6,
   "metadata": {},
   "outputs": [
    {
     "name": "stdout",
     "output_type": "stream",
     "text": [
      "Armstrong numbers in range of 1 to 1000 are :\n"
     ]
    },
    {
     "data": {
      "text/plain": [
       "[1, 2, 3, 4, 5, 6, 7, 8, 9, 153, 370, 371, 407]"
      ]
     },
     "execution_count": 6,
     "metadata": {},
     "output_type": "execute_result"
    }
   ],
   "source": [
    "list(armstrong())"
   ]
  },
  {
   "cell_type": "code",
   "execution_count": null,
   "metadata": {},
   "outputs": [],
   "source": []
  }
 ],
 "metadata": {
  "kernelspec": {
   "display_name": "Python 3",
   "language": "python",
   "name": "python3"
  },
  "language_info": {
   "codemirror_mode": {
    "name": "ipython",
    "version": 3
   },
   "file_extension": ".py",
   "mimetype": "text/x-python",
   "name": "python",
   "nbconvert_exporter": "python",
   "pygments_lexer": "ipython3",
   "version": "3.6.11"
  }
 },
 "nbformat": 4,
 "nbformat_minor": 4
}
